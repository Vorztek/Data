{
 "cells": [
  {
   "cell_type": "code",
   "execution_count": 3,
   "metadata": {},
   "outputs": [],
   "source": []
  },
  {
   "cell_type": "code",
   "execution_count": 27,
   "metadata": {},
   "outputs": [
    {
     "name": "stdout",
     "output_type": "stream",
     "text": [
      "Un simple paragraphe\n",
      " Un exemple de page HTML \n"
     ]
    }
   ],
   "source": [
    "import requests\n",
    "response = requests.get(\"https://raw.githubusercontent.com/Audrik1/HTML/master/1.html\")\n",
    "content = response.content\n",
    "\n",
    "\n",
    "#Parser = parcourir\n",
    "\n",
    "from bs4 import BeautifulSoup\n",
    "soup = BeautifulSoup(content,\"html.parser\") # 1 Argument = le code html / 2 Argument parcourir le code\n",
    "\n",
    "# Isoler \"un simple paragraphe\"\n",
    "# Passer dans le body\n",
    "body = soup.body\n",
    "\n",
    "\n",
    "# Passer le p(paragraphe)\n",
    "\n",
    "paragraphe = body.p.text # le .text me permet de retirer les balises, le .p aller dans les balises <p>\n",
    "print(paragraphe)\n",
    "# ------------------\n",
    "# TP 1 éléments\n",
    "# Consignes\n",
    "# Récupérer un exemple de page HTML grâce à la balise head\n",
    "# Récupérez le titre\n",
    "# Affichez le résultat\n",
    "\n",
    "head = soup.head\n",
    "title = head.title.text\n",
    "print(title)\n",
    "\n",
    "\n"
   ]
  },
  {
   "cell_type": "code",
   "execution_count": 38,
   "metadata": {},
   "outputs": [
    {
     "name": "stdout",
     "output_type": "stream",
     "text": [
      "Un simple paragraphe\n",
      " Un exemple de page HTML \n"
     ]
    }
   ],
   "source": [
    "#Utiliser la méthode FIND ALL\n",
    "\n",
    "soup = BeautifulSoup(content,\"html.parser\")\n",
    "body = soup.find_all(\"body\") #trouver les elements qui correspondent à ...\n",
    "\n",
    "paragraphe = body[0].find_all(\"p\")\n",
    "print(paragraphe[0].text) # .Text impossible sur une liste, vous devez vous déplacer dans l'indice de position\n",
    "\n",
    "#------------\n",
    "# TP2\n",
    "# Consignes\n",
    "# Récupérer \"Un exemple de page HTML\" avec la méthode find_all\n",
    "# Utiliser les balises heads & title\n",
    "\n",
    "title = soup.find_all(\"title\")\n",
    "print(title[0].text)"
   ]
  },
  {
   "cell_type": "code",
   "execution_count": null,
   "metadata": {},
   "outputs": [],
   "source": []
  },
  {
   "cell_type": "code",
   "execution_count": null,
   "metadata": {},
   "outputs": [],
   "source": []
  }
 ],
 "metadata": {
  "kernelspec": {
   "display_name": "Python 3",
   "language": "python",
   "name": "python3"
  },
  "language_info": {
   "codemirror_mode": {
    "name": "ipython",
    "version": 3
   },
   "file_extension": ".py",
   "mimetype": "text/x-python",
   "name": "python",
   "nbconvert_exporter": "python",
   "pygments_lexer": "ipython3",
   "version": "3.7.6"
  }
 },
 "nbformat": 4,
 "nbformat_minor": 4
}
