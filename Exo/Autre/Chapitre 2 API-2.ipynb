{
 "cells": [
  {
   "cell_type": "markdown",
   "metadata": {},
   "source": [
    "# Requête pour obtenir la dernière position de la station spatiale"
   ]
  },
  {
   "cell_type": "code",
   "execution_count": 6,
   "metadata": {},
   "outputs": [
    {
     "name": "stdout",
     "output_type": "stream",
     "text": [
      "200\n"
     ]
    }
   ],
   "source": [
    "# Le mot clé import est nécessaire pour utiliser un module. Vous devez l'importer avant de pouvoir l'utiliser.\n",
    "# Url : http://api.open-notify.org/iss-now.json\n",
    "# Verbes HTTPS : Get/Post/Deleted\n",
    "\n",
    "import requests\n",
    "\n",
    "response = requests.get (\"http://api.open-notify.org/iss-now.json\")\n",
    "\n",
    "# Récupérer le code status\n",
    "# Indique comment s'est passée la requête\n",
    "# 200 - Tout s'est bien passé, le résultat est dispo\n",
    "\n",
    "response\n",
    "\n",
    "# Afficher proprement le code de status de la requête get\n",
    "\n",
    "status_code = response.status_code\n",
    "print (status_code)"
   ]
  },
  {
   "cell_type": "code",
   "execution_count": 19,
   "metadata": {},
   "outputs": [
    {
     "name": "stdout",
     "output_type": "stream",
     "text": [
      "404\n"
     ]
    }
   ],
   "source": [
    "response = requests.get (\"http://api.open-notify.org/iss-now.json\")\n",
    "status_code = response.status_code\n",
    "print (status_code)\n",
    "# Erreur 404 = le serveur n'a pas trouvé la ressource. Erreur d'url"
   ]
  },
  {
   "cell_type": "code",
   "execution_count": 4,
   "metadata": {},
   "outputs": [
    {
     "name": "stdout",
     "output_type": "stream",
     "text": [
      "b'{\"timestamp\": 1590413604, \"iss_position\": {\"latitude\": \"-40.6320\", \"longitude\": \"-29.3144\"}, \"message\": \"success\"}'\n"
     ]
    }
   ],
   "source": [
    "# M'envoyer les info de l'API de l'ISS en fonction de ma position\n",
    "# Pour utiliser cette API vous devez obligatoirement préciser ces paramètres\n",
    "\n",
    "# Coordonnées de Rocket-School : 48.89, 2.354\n",
    "import requests\n",
    "parameters = {\"lat\":48.89 , \"lon\": 2.35}\n",
    "# Ajouter les paramètres dans requête get\n",
    "response = requests.get (\"http://api.open-notify.org/iss-now.json\", params = parameters ) #passer un argument\n",
    "# Récupérer le contenu de l'API\n",
    "content = response.content\n",
    "print(content)"
   ]
  },
  {
   "cell_type": "code",
   "execution_count": 10,
   "metadata": {},
   "outputs": [
    {
     "name": "stdout",
     "output_type": "stream",
     "text": [
      "b'{\"timestamp\": 1590413915, \"iss_position\": {\"latitude\": \"-27.4712\", \"longitude\": \"-12.1398\"}, \"message\": \"success\"}'\n"
     ]
    }
   ],
   "source": [
    "# TP 1\n",
    "# Position de la San Fransisco\n",
    "import requests\n",
    "parameters = {\"lat\":37.62, \"lon\": -122.39}\n",
    "response = requests.get (\"http://api.open-notify.org/iss-now.json\", params = parameters )\n",
    "content = response.content\n",
    "print(content)"
   ]
  },
  {
   "cell_type": "markdown",
   "metadata": {},
   "source": [
    "## Module et format Json"
   ]
  },
  {
   "cell_type": "code",
   "execution_count": 11,
   "metadata": {},
   "outputs": [],
   "source": [
    "# dumps = prendre en entrée un objet python (comme une liste) et retoucher une chaîne de caractères\n",
    "\n",
    "# loads = prendre en entrée une chaîne de caractères (json) et retourner des listes"
   ]
  },
  {
   "cell_type": "code",
   "execution_count": 13,
   "metadata": {},
   "outputs": [
    {
     "name": "stdout",
     "output_type": "stream",
     "text": [
      "<class 'list'>\n"
     ]
    }
   ],
   "source": [
    "sports = [\"Tennis\", \"Football\", \"Golf\"]\n",
    "print (type(sports))"
   ]
  },
  {
   "cell_type": "code",
   "execution_count": 14,
   "metadata": {},
   "outputs": [
    {
     "name": "stdout",
     "output_type": "stream",
     "text": [
      "[\"Tennis\", \"Football\", \"Golf\"]\n"
     ]
    }
   ],
   "source": [
    "# Exemple dumps\n",
    "# Liste vers une chaîne de caractères\n",
    "import json \n",
    "# Convertir une chaîne de caractères\n",
    "# Pour utiliser la fonctionnalité module on utilise un \".\"\n",
    "sports2 = json.dumps (sports)\n",
    "print (sports2)"
   ]
  },
  {
   "cell_type": "code",
   "execution_count": 15,
   "metadata": {},
   "outputs": [
    {
     "name": "stdout",
     "output_type": "stream",
     "text": [
      "<class 'str'>\n"
     ]
    }
   ],
   "source": [
    "print (type (sports2))"
   ]
  },
  {
   "cell_type": "code",
   "execution_count": 16,
   "metadata": {},
   "outputs": [
    {
     "name": "stdout",
     "output_type": "stream",
     "text": [
      "<class 'list'>\n"
     ]
    }
   ],
   "source": [
    "# Exemple de loads\n",
    "# D'une chaîne de caractères vers une liste\n",
    "# print (type(sports2))\n",
    "\n",
    "sports3 = json.loads (sports2)\n",
    "print (type(sports3))"
   ]
  },
  {
   "cell_type": "code",
   "execution_count": 4,
   "metadata": {},
   "outputs": [
    {
     "name": "stdout",
     "output_type": "stream",
     "text": [
      "<class 'str'>\n",
      "<class 'dict'>\n"
     ]
    }
   ],
   "source": [
    "# TP 2\n",
    "# Consignes\n",
    "# Convertir en chaine de caractères\n",
    "# Reconvertir en dictionnaire\n",
    "# Vérifier le type\n",
    "\n",
    "sports_number= {\n",
    "    \"football\":12349,\n",
    "    \"Tennis\": 29282,\n",
    "    \"Equitation\": 38383,\n",
    "    \"Basket\": 83737\n",
    "}\n",
    "\n",
    "import json\n",
    "\n",
    "Sports = json.dumps (sports_number)\n",
    "print (type(Sports))\n",
    "\n",
    "Sports1 = json.loads (Sports)\n",
    "print(type(Sports1))\n"
   ]
  },
  {
   "cell_type": "markdown",
   "metadata": {},
   "source": [
    "## Format Json"
   ]
  },
  {
   "cell_type": "code",
   "execution_count": 1,
   "metadata": {
    "scrolled": true
   },
   "outputs": [
    {
     "name": "stdout",
     "output_type": "stream",
     "text": [
      "b'{\\n  \"message\": \"success\", \\n  \"request\": {\\n    \"altitude\": 100, \\n    \"datetime\": 1590419297, \\n    \"latitude\": 37.62, \\n    \"longitude\": -122.39, \\n    \"passes\": 5\\n  }, \\n  \"response\": [\\n    {\\n      \"duration\": 456, \\n      \"risetime\": 1590448259\\n    }, \\n    {\\n      \"duration\": 652, \\n      \"risetime\": 1590453934\\n    }, \\n    {\\n      \"duration\": 584, \\n      \"risetime\": 1590459796\\n    }, \\n    {\\n      \"duration\": 485, \\n      \"risetime\": 1590465724\\n    }, \\n    {\\n      \"duration\": 544, \\n      \"risetime\": 1590471581\\n    }\\n  ]\\n}\\n'\n"
     ]
    }
   ],
   "source": [
    "import requests\n",
    "parameters = {\"lat\":37.62, \"lon\": -122.39}\n",
    "response = requests.get (\"http://api.open-notify.org/iss-pass.json?\", params = parameters )\n",
    "\n",
    "# Obtenir un objet\n",
    "#json_data = response.json (), transforme au format Json (du module request) la requête\n",
    "json_data = response.json () # Transforme au format Json\n",
    "#print (type (json_data))\n",
    "#print (response)\n",
    "#print (type(response))\n",
    "\n",
    "content = response.content\n",
    "print (content)"
   ]
  },
  {
   "cell_type": "code",
   "execution_count": 2,
   "metadata": {
    "scrolled": true
   },
   "outputs": [
    {
     "name": "stdout",
     "output_type": "stream",
     "text": [
      "{'message': 'success', 'request': {'altitude': 100, 'datetime': 1590419297, 'latitude': 37.62, 'longitude': -122.39, 'passes': 5}, 'response': [{'duration': 456, 'risetime': 1590448259}, {'duration': 652, 'risetime': 1590453934}, {'duration': 584, 'risetime': 1590459796}, {'duration': 485, 'risetime': 1590465724}, {'duration': 544, 'risetime': 1590471581}]}\n"
     ]
    }
   ],
   "source": [
    "print (json_data)"
   ]
  },
  {
   "cell_type": "code",
   "execution_count": 4,
   "metadata": {},
   "outputs": [
    {
     "name": "stdout",
     "output_type": "stream",
     "text": [
      "456\n"
     ]
    }
   ],
   "source": [
    "# Récupérer la première valeur de la clé duration : result 384\n",
    "duration = json_data[\"response\"][0][\"duration\"]\n",
    "print (duration)"
   ]
  },
  {
   "cell_type": "markdown",
   "metadata": {},
   "source": [
    "## Information globale sur la requête"
   ]
  },
  {
   "cell_type": "code",
   "execution_count": 6,
   "metadata": {},
   "outputs": [
    {
     "name": "stdout",
     "output_type": "stream",
     "text": [
      "<Response [200]>\n"
     ]
    }
   ],
   "source": [
    "print (response) #code status de la requête"
   ]
  },
  {
   "cell_type": "code",
   "execution_count": 7,
   "metadata": {},
   "outputs": [
    {
     "name": "stdout",
     "output_type": "stream",
     "text": [
      "{'Server': 'nginx/1.10.3', 'Date': 'Mon, 25 May 2020 15:08:17 GMT', 'Content-Type': 'application/json', 'Content-Length': '521', 'Connection': 'keep-alive', 'Via': '1.1 vegur'}\n"
     ]
    }
   ],
   "source": [
    "# En savoir plus sur la requête (données qui passent directement par l'API)\n",
    "# Fonctionnalité headers\n",
    "print (response.headers)"
   ]
  },
  {
   "cell_type": "code",
   "execution_count": 8,
   "metadata": {},
   "outputs": [
    {
     "name": "stdout",
     "output_type": "stream",
     "text": [
      "application/json\n"
     ]
    }
   ],
   "source": [
    "# Objectif : récupérer \"application/json\"\n",
    "blah = response.headers [\"Content-Type\"]\n",
    "print (blah)"
   ]
  },
  {
   "cell_type": "code",
   "execution_count": 3,
   "metadata": {},
   "outputs": [
    {
     "name": "stdout",
     "output_type": "stream",
     "text": [
      "b'{\"number\": 3, \"message\": \"success\", \"people\": [{\"craft\": \"ISS\", \"name\": \"Chris Cassidy\"}, {\"craft\": \"ISS\", \"name\": \"Anatoly Ivanishin\"}, {\"craft\": \"ISS\", \"name\": \"Ivan Vagner\"}]}'\n",
      "3\n"
     ]
    }
   ],
   "source": [
    "# TP 3\n",
    "\n",
    "# Combien de personnes se trouvent dans l'espace en ce moment ?\n",
    "# Module requests\n",
    "# Assigner votre requête get à la variable response\n",
    "# Transformer les données en json\n",
    "# Isoler la clé contenant le nombre de personnes\n",
    "\n",
    "# Résultat attendu : 3\n",
    "\n",
    "import requests\n",
    "response = requests.get (\"http://api.open-notify.org/astros.json\" )\n",
    "\n",
    "content = response.content\n",
    "print(content)\n",
    "number = json_data[\"number\"]\n",
    "print(number)"
   ]
  },
  {
   "cell_type": "code",
   "execution_count": null,
   "metadata": {},
   "outputs": [],
   "source": []
  }
 ],
 "metadata": {
  "kernelspec": {
   "display_name": "Python 3",
   "language": "python",
   "name": "python3"
  },
  "language_info": {
   "codemirror_mode": {
    "name": "ipython",
    "version": 3
   },
   "file_extension": ".py",
   "mimetype": "text/x-python",
   "name": "python",
   "nbconvert_exporter": "python",
   "pygments_lexer": "ipython3",
   "version": "3.7.6"
  }
 },
 "nbformat": 4,
 "nbformat_minor": 4
}
