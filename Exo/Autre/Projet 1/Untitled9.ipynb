{
 "cells": [
  {
   "cell_type": "code",
   "execution_count": null,
   "metadata": {},
   "outputs": [
    {
     "name": "stdout",
     "output_type": "stream",
     "text": [
      "Donne ton prénom ptit con\n"
     ]
    }
   ],
   "source": [
    "#Créer une liste élève qui contient des prénoms\n",
    "#Imprimer une question: renseigner les élèves présents\n",
    "#Créer une variable présence avec la fonctionnalité input()\n",
    "#Créer une condition if avec presence, qui vérifie (#) que le prénom renseigné est présent dans la variable classe\n",
    "    #Afficher le prénom + \"fait partie de la classe\"\n",
    "#Créer une condition else\n",
    "    #Afficher le prénom + \"Ne fait pas partie de la classe\"\n",
    "    \n",
    "eleve = [\"Julien\", \"Marie\", \"Victor\"]\n",
    "print(\"Donne ton prénom ptit con\")\n",
    "presence = input()\n",
    "for i in eleve:\n",
    "    if presence in eleve:\n",
    "        print(str(i) + \" fait partie de la classe\")\n",
    "        break\n",
    "    else:\n",
    "        print(str(i) + \" ne fait partie de la classe\")"
   ]
  },
  {
   "cell_type": "code",
   "execution_count": null,
   "metadata": {},
   "outputs": [],
   "source": []
  }
 ],
 "metadata": {
  "kernelspec": {
   "display_name": "Python 3",
   "language": "python",
   "name": "python3"
  },
  "language_info": {
   "codemirror_mode": {
    "name": "ipython",
    "version": 3
   },
   "file_extension": ".py",
   "mimetype": "text/x-python",
   "name": "python",
   "nbconvert_exporter": "python",
   "pygments_lexer": "ipython3",
   "version": "3.7.6"
  }
 },
 "nbformat": 4,
 "nbformat_minor": 4
}
