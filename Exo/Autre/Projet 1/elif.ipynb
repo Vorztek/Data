{
 "cells": [
  {
   "cell_type": "code",
   "execution_count": null,
   "metadata": {},
   "outputs": [],
   "source": [
    "note = int(input())\n",
    "\n",
    "if note > 15:\n",
    "    print(\"Bien vu Lulu\")\n",
    "elif note > 13:\n",
    "    print(\"ça passe Horace\")\n",
    "elif note > 11:\n",
    "    print(\"Tout juste auguste\")\n",
    "elif note > 20:\n",
    "    print(\"Je suis sur que tu as triché\")\n",
    "else:\n",
    "    print(\"Tu as gagné des cours particuliers avec Audric ce week-end\")"
   ]
  }
 ],
 "metadata": {
  "kernelspec": {
   "display_name": "Python 3",
   "language": "python",
   "name": "python3"
  },
  "language_info": {
   "codemirror_mode": {
    "name": "ipython",
    "version": 3
   },
   "file_extension": ".py",
   "mimetype": "text/x-python",
   "name": "python",
   "nbconvert_exporter": "python",
   "pygments_lexer": "ipython3",
   "version": "3.7.6"
  }
 },
 "nbformat": 4,
 "nbformat_minor": 4
}
