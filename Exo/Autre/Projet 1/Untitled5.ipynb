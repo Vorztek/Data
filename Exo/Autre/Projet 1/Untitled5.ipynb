{
 "cells": [
  {
   "cell_type": "code",
   "execution_count": 3,
   "metadata": {},
   "outputs": [
    {
     "name": "stdin",
     "output_type": "stream",
     "text": [
      " chevre\n",
      " elephant\n",
      " moi\n",
      " ta mùaman\n",
      " \n"
     ]
    },
    {
     "name": "stdout",
     "output_type": "stream",
     "text": [
      "['chevre', 'elephant', 'moi', 'ta mùaman']\n",
      "chevre\n",
      "elephant\n",
      "moi\n",
      "ta mùaman\n"
     ]
    }
   ],
   "source": [
    "animaux = []\n",
    "animal_categorie = 0\n",
    "while True:\n",
    "    animal = input()\n",
    "    if animal != \"\":\n",
    "        animaux.append(animal)\n",
    "        animal_categorie += 1\n",
    "    else:\n",
    "        break\n",
    "\n",
    "print(animaux)\n",
    "\n",
    "\n",
    "for i in animaux:\n",
    "    print(i)"
   ]
  }
 ],
 "metadata": {
  "kernelspec": {
   "display_name": "Python 3",
   "language": "python",
   "name": "python3"
  },
  "language_info": {
   "codemirror_mode": {
    "name": "ipython",
    "version": 3
   },
   "file_extension": ".py",
   "mimetype": "text/x-python",
   "name": "python",
   "nbconvert_exporter": "python",
   "pygments_lexer": "ipython3",
   "version": "3.7.6"
  }
 },
 "nbformat": 4,
 "nbformat_minor": 4
}
