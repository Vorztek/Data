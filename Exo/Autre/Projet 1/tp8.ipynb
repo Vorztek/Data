{
 "cells": [
  {
   "cell_type": "code",
   "execution_count": 3,
   "metadata": {},
   "outputs": [
    {
     "name": "stdin",
     "output_type": "stream",
     "text": [
      " \"Oui\"\n"
     ]
    },
    {
     "data": {
      "text/plain": [
       "'Erreur'"
      ]
     },
     "execution_count": 3,
     "metadata": {},
     "output_type": "execute_result"
    }
   ],
   "source": [
    "def shut_down(s):\n",
    "    if s == \"Oui\":\n",
    "        return \"Arrêt en cours\"\n",
    "    elif s == \"Non\":\n",
    "        return \"Arrêt reporté\"\n",
    "    else:\n",
    "        return \"Erreur\"\n",
    "    \n",
    "shut_down(input())"
   ]
  }
 ],
 "metadata": {
  "kernelspec": {
   "display_name": "Python 3",
   "language": "python",
   "name": "python3"
  },
  "language_info": {
   "codemirror_mode": {
    "name": "ipython",
    "version": 3
   },
   "file_extension": ".py",
   "mimetype": "text/x-python",
   "name": "python",
   "nbconvert_exporter": "python",
   "pygments_lexer": "ipython3",
   "version": "3.7.6"
  }
 },
 "nbformat": 4,
 "nbformat_minor": 4
}
