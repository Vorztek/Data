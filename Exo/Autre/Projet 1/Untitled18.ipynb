{
 "cells": [
  {
   "cell_type": "code",
   "execution_count": 6,
   "metadata": {},
   "outputs": [
    {
     "name": "stdout",
     "output_type": "stream",
     "text": [
      "Quelle est ta date d'anniv ?\n"
     ]
    },
    {
     "name": "stdin",
     "output_type": "stream",
     "text": [
      " 28 Juin\n"
     ]
    },
    {
     "name": "stdout",
     "output_type": "stream",
     "text": [
      "on peut l'ajouter\n"
     ]
    }
   ],
   "source": [
    "# Stocker des dates d'anniversaire\n",
    "# Demande à la personne d'entrée un prénom\n",
    "# Vérifier que la personne exite dans le dictionnaire\n",
    "# Si elle existe, elle va nous renvoyer la date d'anniversaire\n",
    "# Si elle n'existe pas, elle va nous proposer de l'ajouter à note base de données\n",
    "date = {\"Melissa\":\"21 Mars\",\"Coralie\":\"28 Juin\",\"CH\":\"6 Décembre\",\"JB\":\"30 Novembre\"}\n",
    "print(\"Quelle est ta date d'anniv ?\")\n",
    "variable = input()\n",
    "while True:\n",
    "    if variable in date:\n",
    "        print(\"Le\" +           +    \" est l'anniversaire de \" + name)\n",
    "    else:\n",
    "        print(\"on peut l'ajouter\")\n",
    "    break"
   ]
  }
 ],
 "metadata": {
  "kernelspec": {
   "display_name": "Python 3",
   "language": "python",
   "name": "python3"
  },
  "language_info": {
   "codemirror_mode": {
    "name": "ipython",
    "version": 3
   },
   "file_extension": ".py",
   "mimetype": "text/x-python",
   "name": "python",
   "nbconvert_exporter": "python",
   "pygments_lexer": "ipython3",
   "version": "3.7.6"
  }
 },
 "nbformat": 4,
 "nbformat_minor": 4
}
