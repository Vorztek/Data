{
 "cells": [
  {
   "cell_type": "code",
   "execution_count": 20,
   "metadata": {},
   "outputs": [
    {
     "name": "stdout",
     "output_type": "stream",
     "text": [
      "Demande à Ele\n"
     ]
    }
   ],
   "source": [
    "import random \n",
    "def answer(answernumber):\n",
    "    if answernumber == 1:\n",
    "        return \"C'est certain\"\n",
    "    elif answernumber == 2:\n",
    "        return \"Non c'est pas possible\"\n",
    "    elif answernumber == 3:\n",
    "        return \"Demande à Ele\"\n",
    "    \n",
    "r = random.randint(1, 3)\n",
    "reponse = answer(r)\n",
    "print(reponse)"
   ]
  }
 ],
 "metadata": {
  "kernelspec": {
   "display_name": "Python 3",
   "language": "python",
   "name": "python3"
  },
  "language_info": {
   "codemirror_mode": {
    "name": "ipython",
    "version": 3
   },
   "file_extension": ".py",
   "mimetype": "text/x-python",
   "name": "python",
   "nbconvert_exporter": "python",
   "pygments_lexer": "ipython3",
   "version": "3.7.6"
  }
 },
 "nbformat": 4,
 "nbformat_minor": 4
}
