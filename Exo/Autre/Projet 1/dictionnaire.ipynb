{
 "cells": [
  {
   "cell_type": "code",
   "execution_count": 4,
   "metadata": {},
   "outputs": [
    {
     "data": {
      "text/plain": [
       "15"
      ]
     },
     "execution_count": 4,
     "metadata": {},
     "output_type": "execute_result"
    }
   ],
   "source": [
    "note = {\"Manon\": 10, \"Margot\": 15, \"Sonia\": 12}\n",
    "note\n",
    "#type(note)\n",
    "note[\"Margot\"]"
   ]
  },
  {
   "cell_type": "code",
   "execution_count": 14,
   "metadata": {},
   "outputs": [
    {
     "data": {
      "text/plain": [
       "'Manon a eu 10 à son dernier examen'"
      ]
     },
     "execution_count": 14,
     "metadata": {},
     "output_type": "execute_result"
    }
   ],
   "source": [
    "\"Manon a eu \" + str(note[\"Manon\"]) + \" à son dernier examen\""
   ]
  },
  {
   "cell_type": "code",
   "execution_count": 16,
   "metadata": {},
   "outputs": [
    {
     "data": {
      "text/plain": [
       "False"
      ]
     },
     "execution_count": 16,
     "metadata": {},
     "output_type": "execute_result"
    }
   ],
   "source": [
    "#Dictionnaire vs liste\n",
    "\n",
    "zoo = [\"Chat\", \"Chien\", \"Zèbre\"]\n",
    "soupe = [\"Chien\", \"Zèbre\", \"Chat\"]\n",
    "zoo == soupe"
   ]
  },
  {
   "cell_type": "code",
   "execution_count": 19,
   "metadata": {},
   "outputs": [
    {
     "data": {
      "text/plain": [
       "True"
      ]
     },
     "execution_count": 19,
     "metadata": {},
     "output_type": "execute_result"
    }
   ],
   "source": [
    "zoo = {\"Ani1\": \"Zèbre\", \"Ani2\":\"Chat\"}\n",
    "soupe = {\"Ani1\": \"Zèbre\", \"Ani2\":\"Chat\"}\n",
    "\n",
    "zoo == soupe"
   ]
  },
  {
   "cell_type": "code",
   "execution_count": 21,
   "metadata": {},
   "outputs": [
    {
     "ename": "KeyError",
     "evalue": "'Autruche'",
     "output_type": "error",
     "traceback": [
      "\u001b[1;31m---------------------------------------------------------------------------\u001b[0m",
      "\u001b[1;31mKeyError\u001b[0m                                  Traceback (most recent call last)",
      "\u001b[1;32m<ipython-input-21-ca6af5a229a6>\u001b[0m in \u001b[0;36m<module>\u001b[1;34m\u001b[0m\n\u001b[0;32m      1\u001b[0m \u001b[0msoupe\u001b[0m \u001b[1;33m=\u001b[0m \u001b[1;33m{\u001b[0m\u001b[1;34m\"Ani1\"\u001b[0m\u001b[1;33m:\u001b[0m \u001b[1;34m\"Zèbre\"\u001b[0m\u001b[1;33m,\u001b[0m \u001b[1;34m\"Ani2\"\u001b[0m\u001b[1;33m:\u001b[0m\u001b[1;34m\"Chat\"\u001b[0m\u001b[1;33m}\u001b[0m\u001b[1;33m\u001b[0m\u001b[1;33m\u001b[0m\u001b[0m\n\u001b[1;32m----> 2\u001b[1;33m \u001b[0msoupe\u001b[0m\u001b[1;33m[\u001b[0m\u001b[1;34m\"Autruche\"\u001b[0m\u001b[1;33m]\u001b[0m\u001b[1;33m\u001b[0m\u001b[1;33m\u001b[0m\u001b[0m\n\u001b[0m",
      "\u001b[1;31mKeyError\u001b[0m: 'Autruche'"
     ]
    }
   ],
   "source": [
    "soupe = {\"Ani1\": \"Zèbre\", \"Ani2\":\"Chat\"}\n",
    "soupe[\"Autruche\"]"
   ]
  },
  {
   "cell_type": "code",
   "execution_count": null,
   "metadata": {},
   "outputs": [],
   "source": []
  }
 ],
 "metadata": {
  "kernelspec": {
   "display_name": "Python 3",
   "language": "python",
   "name": "python3"
  },
  "language_info": {
   "codemirror_mode": {
    "name": "ipython",
    "version": 3
   },
   "file_extension": ".py",
   "mimetype": "text/x-python",
   "name": "python",
   "nbconvert_exporter": "python",
   "pygments_lexer": "ipython3",
   "version": "3.7.6"
  }
 },
 "nbformat": 4,
 "nbformat_minor": 4
}
