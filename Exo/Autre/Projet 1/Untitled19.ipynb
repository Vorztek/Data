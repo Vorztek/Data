{
 "cells": [
  {
   "cell_type": "code",
   "execution_count": null,
   "metadata": {},
   "outputs": [],
   "source": [
    "# Stocker des dates d'anniversaire\n",
    "# Demande à la personne d'entrée un prénom\n",
    "# Vérifier que la personne exite dans le dictionnaire\n",
    "# Si elle existe, elle va nous renvoyer la date d'anniversaire\n",
    "# Si elle n'existe pas, elle va nous proposer de l'ajouter à note base de données\n",
    "date = {\"Melissa\":\"21 Mars\",\"Coralie\":\"28 Juin\",\"CH\":\"6 Décembre\",\"JB\":\"30 Novembre\"}\n",
    "print(\"Quel est ton prénom?\")\n",
    "variable = input()\n",
    "while True:\n",
    "    if variable in date:\n",
    "        print(\"Le \" + date[variable] +    \" est l'anniversaire de \" + variable)\n",
    "    else:\n",
    "        print(\"Je n'ai pas la date d'anniversaire de \" + variable)\n",
    "        break"
   ]
  }
 ],
 "metadata": {
  "kernelspec": {
   "display_name": "Python 3",
   "language": "python",
   "name": "python3"
  },
  "language_info": {
   "codemirror_mode": {
    "name": "ipython",
    "version": 3
   },
   "file_extension": ".py",
   "mimetype": "text/x-python",
   "name": "python",
   "nbconvert_exporter": "python",
   "pygments_lexer": "ipython3",
   "version": "3.7.6"
  }
 },
 "nbformat": 4,
 "nbformat_minor": 4
}
