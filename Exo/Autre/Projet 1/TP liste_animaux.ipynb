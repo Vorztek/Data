{
 "cells": [
  {
   "cell_type": "code",
   "execution_count": null,
   "metadata": {},
   "outputs": [],
   "source": [
    "animaux = []\n",
    "animal_categorie = 0\n",
    "while True:\n",
    "    animal = input()\n",
    "    if animal != \"\":\n",
    "        animaux.append(animal)\n",
    "        animal_categorie += 1\n",
    "    else:\n",
    "        break\n",
    "\n",
    "for i in animaux:\n",
    "    print(i)\n",
    "    \n",
    "# Il faut ajouter le numéro de catégorie !\n",
    "#total = str(i)+ \" \" + NewAnimal : concaténer numéro + animal"
   ]
  },
  {
   "cell_type": "code",
   "execution_count": null,
   "metadata": {},
   "outputs": [],
   "source": []
  }
 ],
 "metadata": {
  "kernelspec": {
   "display_name": "Python 3",
   "language": "python",
   "name": "python3"
  },
  "language_info": {
   "codemirror_mode": {
    "name": "ipython",
    "version": 3
   },
   "file_extension": ".py",
   "mimetype": "text/x-python",
   "name": "python",
   "nbconvert_exporter": "python",
   "pygments_lexer": "ipython3",
   "version": "3.7.6"
  }
 },
 "nbformat": 4,
 "nbformat_minor": 4
}
