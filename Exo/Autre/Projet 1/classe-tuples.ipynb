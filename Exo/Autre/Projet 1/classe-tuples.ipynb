{
 "cells": [
  {
   "cell_type": "code",
   "execution_count": 2,
   "metadata": {},
   "outputs": [
    {
     "name": "stdout",
     "output_type": "stream",
     "text": [
      "Sephora Cédric\n"
     ]
    }
   ],
   "source": [
    "classe = [\"Sephora\", \"Cédric\"]\n",
    "eleve1 = classe[0]\n",
    "eleve2 = classe[1]\n",
    "\n",
    "print(eleve1, eleve2)"
   ]
  },
  {
   "cell_type": "code",
   "execution_count": 5,
   "metadata": {},
   "outputs": [
    {
     "name": "stdout",
     "output_type": "stream",
     "text": [
      "Sephora\n"
     ]
    },
    {
     "data": {
      "text/plain": [
       "0"
      ]
     },
     "execution_count": 5,
     "metadata": {},
     "output_type": "execute_result"
    }
   ],
   "source": [
    "classe = [\"Sephora\", \"Cédric\"]\n",
    "classe = eleve1, eleve2\n",
    "print(eleve1)\n",
    "classe.index(\"Sephora\")"
   ]
  },
  {
   "cell_type": "code",
   "execution_count": 10,
   "metadata": {},
   "outputs": [
    {
     "data": {
      "text/plain": [
       "['Dahbia', 'Sephora', 'Cédric']"
      ]
     },
     "execution_count": 10,
     "metadata": {},
     "output_type": "execute_result"
    }
   ],
   "source": [
    "#Ajouter des valeurs dans des listes\n",
    "\n",
    "#Append\n",
    "#insert()\n",
    "\n",
    "classe = [\"Sephora\", \"Cédric\"]\n",
    "classe.insert(0,\"Dahbia\")\n",
    "classe"
   ]
  },
  {
   "cell_type": "code",
   "execution_count": 16,
   "metadata": {},
   "outputs": [
    {
     "data": {
      "text/plain": [
       "['Sephora']"
      ]
     },
     "execution_count": 16,
     "metadata": {},
     "output_type": "execute_result"
    }
   ],
   "source": [
    "#Retirer des valeurs d'une liste\n",
    "\n",
    "classe = [\"Sephora\", \"Cédric\"]\n",
    "classe.remove(\"Cédric\")\n",
    "classe"
   ]
  },
  {
   "cell_type": "code",
   "execution_count": 18,
   "metadata": {},
   "outputs": [
    {
     "data": {
      "text/plain": [
       "[9, 12, 14, 20]"
      ]
     },
     "execution_count": 18,
     "metadata": {},
     "output_type": "execute_result"
    }
   ],
   "source": [
    "#Trier des valeurs d'une liste\n",
    "\n",
    "#méthode sort()\n",
    "note = [20,12,14,9]\n",
    "note.sort()\n",
    "note\n",
    "\n",
    "#Pour du texte, les majuscules sont prioritaires sur les minuscules\n",
    "# classe.sort(reserve=True)\n",
    "# Ou classe.reverse"
   ]
  },
  {
   "cell_type": "code",
   "execution_count": 26,
   "metadata": {},
   "outputs": [
    {
     "data": {
      "text/plain": [
       "['Mabar', 'Melissa']"
      ]
     },
     "execution_count": 26,
     "metadata": {},
     "output_type": "execute_result"
    }
   ],
   "source": [
    "classe = [\"Melissa\", \"Mabar\"]\n",
    "classe.reverse()\n",
    "classe"
   ]
  },
  {
   "cell_type": "code",
   "execution_count": 28,
   "metadata": {},
   "outputs": [
    {
     "data": {
      "text/plain": [
       "['A', 'a', 'z', 'Z']"
      ]
     },
     "execution_count": 28,
     "metadata": {},
     "output_type": "execute_result"
    }
   ],
   "source": [
    "lettres = [\"A\", \"z\", \"a\", \"Z\"]\n",
    "lettres.sort(key=str.lower)\n",
    "lettres"
   ]
  },
  {
   "cell_type": "code",
   "execution_count": 31,
   "metadata": {},
   "outputs": [
    {
     "data": {
      "text/plain": [
       "['Jeanne', 'Sonia']"
      ]
     },
     "execution_count": 31,
     "metadata": {},
     "output_type": "execute_result"
    }
   ],
   "source": [
    "classe = [\n",
    "    \"Jeanne\",\n",
    "    \"Sonia\"\n",
    "]\n",
    "\n",
    "classe"
   ]
  },
  {
   "cell_type": "code",
   "execution_count": 34,
   "metadata": {},
   "outputs": [
    {
     "ename": "TypeError",
     "evalue": "'str' object does not support item assignment",
     "output_type": "error",
     "traceback": [
      "\u001b[1;31m---------------------------------------------------------------------------\u001b[0m",
      "\u001b[1;31mTypeError\u001b[0m                                 Traceback (most recent call last)",
      "\u001b[1;32m<ipython-input-34-f88f5592c7c9>\u001b[0m in \u001b[0;36m<module>\u001b[1;34m\u001b[0m\n\u001b[0;32m      2\u001b[0m \u001b[1;33m\u001b[0m\u001b[0m\n\u001b[0;32m      3\u001b[0m \u001b[0mclasse\u001b[0m \u001b[1;33m=\u001b[0m \u001b[1;34m\"Alexandra\"\u001b[0m\u001b[1;33m\u001b[0m\u001b[1;33m\u001b[0m\u001b[0m\n\u001b[1;32m----> 4\u001b[1;33m \u001b[0mclasse\u001b[0m\u001b[1;33m[\u001b[0m\u001b[1;36m8\u001b[0m\u001b[1;33m]\u001b[0m \u001b[1;33m=\u001b[0m \u001b[1;34m\"A\"\u001b[0m\u001b[1;33m\u001b[0m\u001b[1;33m\u001b[0m\u001b[0m\n\u001b[0m",
      "\u001b[1;31mTypeError\u001b[0m: 'str' object does not support item assignment"
     ]
    }
   ],
   "source": [
    "# Données mutables et immutables\n",
    "\n",
    "classe = \"Alexandra\"\n",
    "classe[8] = \"A\""
   ]
  },
  {
   "cell_type": "code",
   "execution_count": 39,
   "metadata": {},
   "outputs": [
    {
     "data": {
      "text/plain": [
       "'Alexandra'"
      ]
     },
     "execution_count": 39,
     "metadata": {},
     "output_type": "execute_result"
    }
   ],
   "source": [
    "classe = \"Alexsdddddd\"\n",
    "new_classe = classe [:4] + \"andra\"\n",
    "new_classe"
   ]
  },
  {
   "cell_type": "code",
   "execution_count": 43,
   "metadata": {},
   "outputs": [
    {
     "name": "stdout",
     "output_type": "stream",
     "text": [
      "['Alex', 'Sonia', 'Manon']\n"
     ]
    }
   ],
   "source": [
    "#tuples \n",
    "\n",
    "ex_tuples = ([\"Alex\", \"Sonia\", \"Manon\"])\n",
    "print(ex_tuples)\n",
    "\n",
    "#Les listes sont immutables\n",
    "#Les tuples sont mutables"
   ]
  },
  {
   "cell_type": "code",
   "execution_count": 46,
   "metadata": {},
   "outputs": [
    {
     "data": {
      "text/plain": [
       "('Alex', 'Sonia', 'Manon')"
      ]
     },
     "execution_count": 46,
     "metadata": {},
     "output_type": "execute_result"
    }
   ],
   "source": [
    "classe = [\"Alex\", \"Sonia\", \"Manon\"] #les données à l'intérieur sont immutables LISTE\n",
    "classe = (\"Alex\", \"Sonia\", \"Manon\") #Les données à l'intérieur sont mutables TUPLES\n",
    "\n",
    "#Immutables \n",
    "#tuple() = données mutables\n",
    "ex_tuple = tuple(classe) #mutable\n",
    "type(ex_tuple)\n",
    "ex_tuple"
   ]
  },
  {
   "cell_type": "code",
   "execution_count": 48,
   "metadata": {},
   "outputs": [],
   "source": [
    " #Transformer une liste en tuple\n",
    "\n",
    "transformation_tuple = tuple(classe)"
   ]
  }
 ],
 "metadata": {
  "kernelspec": {
   "display_name": "Python 3",
   "language": "python",
   "name": "python3"
  },
  "language_info": {
   "codemirror_mode": {
    "name": "ipython",
    "version": 3
   },
   "file_extension": ".py",
   "mimetype": "text/x-python",
   "name": "python",
   "nbconvert_exporter": "python",
   "pygments_lexer": "ipython3",
   "version": "3.7.6"
  }
 },
 "nbformat": 4,
 "nbformat_minor": 4
}
