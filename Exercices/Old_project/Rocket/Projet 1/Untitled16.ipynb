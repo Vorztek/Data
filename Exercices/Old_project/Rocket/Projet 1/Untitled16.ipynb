{
 "cells": [
  {
   "cell_type": "code",
   "execution_count": 2,
   "metadata": {},
   "outputs": [
    {
     "name": "stdout",
     "output_type": "stream",
     "text": [
      "['Dahbia', 'Sophie', 'Manon', 'Patrick']\n"
     ]
    }
   ],
   "source": [
    "list1 = [\"Dahbia\", \"\", \"Sophie\", \"Manon\", \"\", \"Patrick\"]\n",
    "#list1 = [a for a in list1 if a != \"\"]\n",
    "list2 = list(filter(None, list1))\n",
    "print(list2)\n"
   ]
  },
  {
   "cell_type": "code",
   "execution_count": null,
   "metadata": {},
   "outputs": [],
   "source": [
    "list = [1, 2, 3, 4, 5, 6, 7]\n",
    "new = []\n",
    "for i in list:\n",
    "    new.append(i ** 2)\n",
    "print(new)"
   ]
  }
 ],
 "metadata": {
  "kernelspec": {
   "display_name": "Python 3",
   "language": "python",
   "name": "python3"
  },
  "language_info": {
   "codemirror_mode": {
    "name": "ipython",
    "version": 3
   },
   "file_extension": ".py",
   "mimetype": "text/x-python",
   "name": "python",
   "nbconvert_exporter": "python",
   "pygments_lexer": "ipython3",
   "version": "3.7.6"
  }
 },
 "nbformat": 4,
 "nbformat_minor": 4
}
